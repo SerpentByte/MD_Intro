{
 "cells": [
  {
   "cell_type": "code",
   "execution_count": 16,
   "id": "c8a502d4-d831-470e-a746-a67d7810cf77",
   "metadata": {},
   "outputs": [],
   "source": [
    "from random import randint"
   ]
  },
  {
   "cell_type": "markdown",
   "id": "09f26a30-ba23-4faf-be32-ce9d53d4ff92",
   "metadata": {
    "tags": []
   },
   "source": [
    "# defining variables"
   ]
  },
  {
   "cell_type": "markdown",
   "id": "8f1abfbb-6a13-4e9b-b317-bfc299904059",
   "metadata": {},
   "source": [
    "## data types"
   ]
  },
  {
   "cell_type": "markdown",
   "id": "952ac602-8cd8-4d48-b59e-fcaf8fe065e1",
   "metadata": {},
   "source": [
    "### integet (int), decimals (float, double), boolean (bool)"
   ]
  },
  {
   "cell_type": "code",
   "execution_count": 6,
   "id": "a9d43f24-dcd0-4d5d-aba1-228b04f9214f",
   "metadata": {},
   "outputs": [],
   "source": [
    "a = 1 # integer\n",
    "b = 1.2463\n",
    "c = True"
   ]
  },
  {
   "cell_type": "code",
   "execution_count": 13,
   "id": "89f1be59-d7d4-4121-af6d-c7bddef80821",
   "metadata": {},
   "outputs": [
    {
     "data": {
      "text/plain": [
       "0"
      ]
     },
     "execution_count": 13,
     "metadata": {},
     "output_type": "execute_result"
    }
   ],
   "source": [
    "int(False)"
   ]
  },
  {
   "cell_type": "code",
   "execution_count": null,
   "id": "8b5ce62a-abb3-4244-bc19-c5c6bacd5d4d",
   "metadata": {},
   "outputs": [],
   "source": []
  },
  {
   "cell_type": "markdown",
   "id": "a2e6cb54-df66-43d2-b9c0-3c204b5ec516",
   "metadata": {
    "jp-MarkdownHeadingCollapsed": true,
    "tags": []
   },
   "source": [
    "# conditions"
   ]
  },
  {
   "cell_type": "markdown",
   "id": "0a7f3d59-fb34-4809-b420-42906eabc66e",
   "metadata": {
    "tags": []
   },
   "source": [
    "## if else statements"
   ]
  },
  {
   "cell_type": "markdown",
   "id": "be9c5a36-3dd1-4077-bff9-fe38c9b4f493",
   "metadata": {},
   "source": [
    "### syntax\n",
    "```\n",
    "if <some condition>:\n",
    "    do something\n",
    "elif <some other condition>:\n",
    "    do something different\n",
    "else:\n",
    "    do something else\n",
    "```"
   ]
  },
  {
   "cell_type": "code",
   "execution_count": 23,
   "id": "880e6ee6-2095-4a37-81a8-5117fe4588e7",
   "metadata": {},
   "outputs": [
    {
     "name": "stdout",
     "output_type": "stream",
     "text": [
      "4\n"
     ]
    }
   ],
   "source": [
    "a = 30\n",
    "\n",
    "if a < 5:\n",
    "    print(\"1\")\n",
    "elif 5 <= a < 10:\n",
    "    print(\"2\")\n",
    "elif 10 <= a < 20:\n",
    "    print(\"3\")\n",
    "else:\n",
    "    print(\"4\")"
   ]
  },
  {
   "cell_type": "code",
   "execution_count": null,
   "id": "47b0715a-358b-473d-b635-26773072002e",
   "metadata": {},
   "outputs": [],
   "source": []
  },
  {
   "cell_type": "markdown",
   "id": "cecd43c4-0d92-484d-93c5-0d0d99de5c35",
   "metadata": {
    "jp-MarkdownHeadingCollapsed": true,
    "tags": []
   },
   "source": [
    "# Loops"
   ]
  },
  {
   "cell_type": "markdown",
   "id": "4e85561b-3659-433b-81a2-8083f0ed2592",
   "metadata": {
    "jp-MarkdownHeadingCollapsed": true,
    "tags": []
   },
   "source": [
    "## for loops"
   ]
  },
  {
   "cell_type": "markdown",
   "id": "f2b69a89-e99b-4203-85ed-e61073a9e181",
   "metadata": {
    "tags": []
   },
   "source": [
    "### syntax\n",
    "```\n",
    "for <condition>:\n",
    "    <do something>\n",
    "    \n",
    "<something here>\n",
    "```"
   ]
  },
  {
   "cell_type": "code",
   "execution_count": 30,
   "id": "f097336f-9f59-4121-be8e-a8ef8941ab03",
   "metadata": {},
   "outputs": [
    {
     "name": "stdout",
     "output_type": "stream",
     "text": [
      "0\n",
      "1\n",
      "2\n",
      "3\n",
      "4\n",
      "5\n",
      "6\n",
      "7\n",
      "8\n",
      "9\n",
      "Loop end\n"
     ]
    }
   ],
   "source": [
    "for i in range(10):\n",
    "    print(i)\n",
    "\n",
    "print(\"Loop end\")"
   ]
  },
  {
   "cell_type": "code",
   "execution_count": 31,
   "id": "b3be1889-2023-4d91-b69d-4d4157894718",
   "metadata": {},
   "outputs": [
    {
     "data": {
      "text/plain": [
       "9"
      ]
     },
     "execution_count": 31,
     "metadata": {},
     "output_type": "execute_result"
    }
   ],
   "source": [
    "i"
   ]
  },
  {
   "cell_type": "markdown",
   "id": "bd859788-897b-4b17-ae26-c4b08916a1ce",
   "metadata": {
    "tags": []
   },
   "source": [
    "## while loops"
   ]
  },
  {
   "cell_type": "markdown",
   "id": "bceada46-48cd-4378-b42b-3c8ccca657a7",
   "metadata": {
    "tags": []
   },
   "source": [
    "### syntax\n",
    "```\n",
    "while <condition>:\n",
    "    <do something repeatedly>\n",
    "    \n",
    "<do something>\n",
    "```"
   ]
  },
  {
   "cell_type": "code",
   "execution_count": 34,
   "id": "3334e080-7040-469a-b4cd-28aa08687612",
   "metadata": {},
   "outputs": [
    {
     "name": "stdout",
     "output_type": "stream",
     "text": [
      "0\n",
      "1\n",
      "2\n",
      "3\n",
      "4\n",
      "5\n",
      "6\n",
      "7\n",
      "8\n",
      "9\n",
      "End loop\n"
     ]
    }
   ],
   "source": [
    "i = 0\n",
    "while i < 10:\n",
    "    print(i)\n",
    "    i = i + 1\n",
    "    \n",
    "print(\"End loop\")"
   ]
  },
  {
   "cell_type": "code",
   "execution_count": 33,
   "id": "20c72b21-5fc2-41d2-8ede-42dc65ed67e5",
   "metadata": {},
   "outputs": [
    {
     "data": {
      "text/plain": [
       "10"
      ]
     },
     "execution_count": 33,
     "metadata": {},
     "output_type": "execute_result"
    }
   ],
   "source": [
    "i"
   ]
  },
  {
   "cell_type": "code",
   "execution_count": 1,
   "id": "f01e3dbb-df46-4344-b0d1-0ce574ad185e",
   "metadata": {},
   "outputs": [],
   "source": [
    "s = \"lkhflshflshgg@dfkghfgh\""
   ]
  },
  {
   "cell_type": "code",
   "execution_count": 6,
   "id": "c4eddbb9-8b19-4f1f-82a0-70ad965fb2ac",
   "metadata": {},
   "outputs": [
    {
     "name": "stdout",
     "output_type": "stream",
     "text": [
      "l\n",
      "k\n",
      "h\n",
      "f\n",
      "l\n",
      "s\n",
      "h\n",
      "f\n",
      "l\n",
      "s\n",
      "h\n",
      "g\n",
      "g\n"
     ]
    }
   ],
   "source": [
    "i = 0\n",
    "while s[i] != \"@\":\n",
    "    print(s[i])\n",
    "    i = i + 1\n",
    "    \n",
    "a = 1"
   ]
  },
  {
   "cell_type": "code",
   "execution_count": 7,
   "id": "ffdbcc48-12d2-4aa8-b934-28f4d274096a",
   "metadata": {},
   "outputs": [
    {
     "data": {
      "text/plain": [
       "\u001b[0;31mInit signature:\u001b[0m \u001b[0mrange\u001b[0m\u001b[0;34m(\u001b[0m\u001b[0mself\u001b[0m\u001b[0;34m,\u001b[0m \u001b[0;34m/\u001b[0m\u001b[0;34m,\u001b[0m \u001b[0;34m*\u001b[0m\u001b[0margs\u001b[0m\u001b[0;34m,\u001b[0m \u001b[0;34m**\u001b[0m\u001b[0mkwargs\u001b[0m\u001b[0;34m)\u001b[0m\u001b[0;34m\u001b[0m\u001b[0;34m\u001b[0m\u001b[0m\n",
       "\u001b[0;31mDocstring:\u001b[0m     \n",
       "range(stop) -> range object\n",
       "range(start, stop[, step]) -> range object\n",
       "\n",
       "Return an object that produces a sequence of integers from start (inclusive)\n",
       "to stop (exclusive) by step.  range(i, j) produces i, i+1, i+2, ..., j-1.\n",
       "start defaults to 0, and stop is omitted!  range(4) produces 0, 1, 2, 3.\n",
       "These are exactly the valid indices for a list of 4 elements.\n",
       "When step is given, it specifies the increment (or decrement).\n",
       "\u001b[0;31mType:\u001b[0m           type\n",
       "\u001b[0;31mSubclasses:\u001b[0m     \n"
      ]
     },
     "metadata": {},
     "output_type": "display_data"
    }
   ],
   "source": [
    "range?"
   ]
  },
  {
   "cell_type": "code",
   "execution_count": 14,
   "id": "b5e0c461-4c4d-4479-b009-eec4ed0a2f3c",
   "metadata": {},
   "outputs": [
    {
     "name": "stdout",
     "output_type": "stream",
     "text": [
      "1\n",
      "4\n",
      "7\n"
     ]
    }
   ],
   "source": [
    "for i in range(1, 9, 3):\n",
    "    print(i)\n",
    "    \n",
    "    continue\n",
    "    \n",
    "    print(2)"
   ]
  },
  {
   "cell_type": "code",
   "execution_count": null,
   "id": "11fda72a-3d24-42ca-8f7a-7622ef8d0d3c",
   "metadata": {},
   "outputs": [],
   "source": []
  },
  {
   "cell_type": "markdown",
   "id": "5dc9a6d6-8a7b-4228-b9fa-e38148e392de",
   "metadata": {},
   "source": [
    "# Example"
   ]
  },
  {
   "cell_type": "code",
   "execution_count": 38,
   "id": "ecf40b50-87b0-4ee4-a1e8-5f35eae80127",
   "metadata": {},
   "outputs": [
    {
     "name": "stdin",
     "output_type": "stream",
     "text": [
      "Guess the number:  6\n"
     ]
    },
    {
     "name": "stdout",
     "output_type": "stream",
     "text": [
      "Guess is smaller than the number.\n"
     ]
    },
    {
     "name": "stdin",
     "output_type": "stream",
     "text": [
      "Guess the number:  8\n"
     ]
    },
    {
     "name": "stdout",
     "output_type": "stream",
     "text": [
      "Guess is smaller than the number.\n"
     ]
    },
    {
     "name": "stdin",
     "output_type": "stream",
     "text": [
      "Guess the number:  10\n"
     ]
    },
    {
     "name": "stdout",
     "output_type": "stream",
     "text": [
      "Guess is larger than the number.\n"
     ]
    },
    {
     "name": "stdin",
     "output_type": "stream",
     "text": [
      "Guess the number:  9\n"
     ]
    },
    {
     "name": "stdout",
     "output_type": "stream",
     "text": [
      "You WIN!\n"
     ]
    }
   ],
   "source": [
    "N = randint(0, 15)\n",
    "\n",
    "max_trials = 10\n",
    "\n",
    "# trials = 0\n",
    "# while trials < max_trials:\n",
    "for trials in range(max_trials):\n",
    "    guess = int(input(\"Guess the number: \"))\n",
    "    \n",
    "    trials += 1 # equivalent to trials = trials + 1\n",
    "    \n",
    "    if guess > N:\n",
    "        print(\"Guess is larger than the number.\")\n",
    "    elif guess < N:\n",
    "        print(\"Guess is smaller than the number.\")\n",
    "    elif guess == N:\n",
    "        print(\"You WIN!\")\n",
    "        break\n",
    "        \n",
    "if (trials == max_trials):\n",
    "    print(\"Sorry, maximum number of trials reached.\")"
   ]
  },
  {
   "cell_type": "code",
   "execution_count": null,
   "id": "1a383907-fbfc-42d4-8783-79f0554c6a4a",
   "metadata": {},
   "outputs": [],
   "source": []
  },
  {
   "cell_type": "code",
   "execution_count": null,
   "id": "343a302f-d82c-4f85-93da-fa2089dc4f66",
   "metadata": {},
   "outputs": [],
   "source": []
  }
 ],
 "metadata": {
  "kernelspec": {
   "display_name": "Python 3 (ipykernel)",
   "language": "python",
   "name": "python3"
  },
  "language_info": {
   "codemirror_mode": {
    "name": "ipython",
    "version": 3
   },
   "file_extension": ".py",
   "mimetype": "text/x-python",
   "name": "python",
   "nbconvert_exporter": "python",
   "pygments_lexer": "ipython3",
   "version": "3.9.13"
  }
 },
 "nbformat": 4,
 "nbformat_minor": 5
}
