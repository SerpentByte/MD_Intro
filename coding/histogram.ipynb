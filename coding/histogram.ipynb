{
 "cells": [
  {
   "cell_type": "code",
   "execution_count": 52,
   "id": "8ab7de96-dffd-4bac-8c81-0b88ab4c60ad",
   "metadata": {},
   "outputs": [],
   "source": [
    "import numpy as np\n",
    "import matplotlib.pyplot as plt"
   ]
  },
  {
   "cell_type": "code",
   "execution_count": 42,
   "id": "67b78b1c-25e2-494c-b0b6-790b7ccc880d",
   "metadata": {},
   "outputs": [],
   "source": [
    "num = np.loadtxt(\"numbers.txt\")"
   ]
  },
  {
   "cell_type": "code",
   "execution_count": null,
   "id": "176a71ba-c5bd-4829-8627-7b4e05bbc787",
   "metadata": {},
   "outputs": [],
   "source": []
  },
  {
   "cell_type": "markdown",
   "id": "ad566697-3d54-4d5e-8717-bcf59364d6c3",
   "metadata": {
    "tags": []
   },
   "source": [
    "# mean and SD"
   ]
  },
  {
   "cell_type": "markdown",
   "id": "8efc5a9c-6730-4be9-8f26-696b8fd4b8c8",
   "metadata": {},
   "source": [
    "$<x>$ = $\\frac{\\sum{x_i}}{N}$"
   ]
  },
  {
   "cell_type": "markdown",
   "id": "4ecca180-0830-4e1c-b54d-3fc52da8399d",
   "metadata": {},
   "source": [
    "$\\sigma$ = $\\sqrt{<x^2> - <x>^2}$"
   ]
  },
  {
   "cell_type": "markdown",
   "id": "76cffdd4-9c7e-45a1-9e5e-30fd475d5185",
   "metadata": {},
   "source": [
    "```\n",
    "sum = 0\n",
    "sum2 = 0\n",
    "ctr = 0\n",
    "\n",
    "loop over the number:\n",
    "    sum = sum + number\n",
    "\n",
    "    sum2 = sum2 + (number * number)\n",
    "    \n",
    "    ctr = ctr + 1\n",
    "```"
   ]
  },
  {
   "cell_type": "code",
   "execution_count": null,
   "id": "86f8bae4-7577-498c-bf0a-a6a64c2567ff",
   "metadata": {},
   "outputs": [],
   "source": []
  },
  {
   "cell_type": "markdown",
   "id": "3e5ff8d3-e4b3-4c6b-8c9d-526bdaee8167",
   "metadata": {},
   "source": [
    "# histogram"
   ]
  },
  {
   "cell_type": "markdown",
   "id": "dca0e666-f5a5-4f71-af57-2735aea14d24",
   "metadata": {},
   "source": [
    "```\n",
    "N = 10000 # number of entries\n",
    "nbins = 10\n",
    "maxim = 4\n",
    "minim = -4\n",
    "dx = (maxim - minim)/nbins\n",
    "\n",
    "hist = np.zeros(nbins)\n",
    "\n",
    "loop for over numbers:\n",
    "    index = floor((number - minim)/dx)\n",
    "    hist[index] += 1\n",
    "```"
   ]
  },
  {
   "cell_type": "code",
   "execution_count": null,
   "id": "23d18257-5c90-4a87-b69f-5f4145c422b8",
   "metadata": {},
   "outputs": [],
   "source": []
  },
  {
   "cell_type": "code",
   "execution_count": 22,
   "id": "ab494041-b0b6-46da-98cd-8bf17da6d233",
   "metadata": {},
   "outputs": [
    {
     "data": {
      "text/plain": [
       "<ufunc 'floor'>"
      ]
     },
     "execution_count": 22,
     "metadata": {},
     "output_type": "execute_result"
    }
   ],
   "source": [
    "np.floor"
   ]
  },
  {
   "cell_type": "code",
   "execution_count": 28,
   "id": "ce3fe27b-f2f1-41ec-991d-912a62fe281b",
   "metadata": {},
   "outputs": [],
   "source": [
    "# for i in range(10000):\n",
    "#     print(num[i])\n",
    "    \n",
    "# another way\n",
    "# for number in numbers:\n",
    "#     print(number)"
   ]
  },
  {
   "cell_type": "code",
   "execution_count": null,
   "id": "9449969d-f22b-4b27-b18a-9351849c8f5d",
   "metadata": {},
   "outputs": [],
   "source": []
  },
  {
   "cell_type": "code",
   "execution_count": null,
   "id": "653c8a5f-d8ce-43fe-9cb0-8da1ed33bb65",
   "metadata": {},
   "outputs": [],
   "source": []
  }
 ],
 "metadata": {
  "kernelspec": {
   "display_name": "Python 3 (ipykernel)",
   "language": "python",
   "name": "python3"
  },
  "language_info": {
   "codemirror_mode": {
    "name": "ipython",
    "version": 3
   },
   "file_extension": ".py",
   "mimetype": "text/x-python",
   "name": "python",
   "nbconvert_exporter": "python",
   "pygments_lexer": "ipython3",
   "version": "3.9.13"
  }
 },
 "nbformat": 4,
 "nbformat_minor": 5
}
